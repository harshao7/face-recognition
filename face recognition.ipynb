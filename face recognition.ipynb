{
 "cells": [
  {
   "cell_type": "code",
   "execution_count": 1,
   "id": "d1df5f28",
   "metadata": {},
   "outputs": [],
   "source": [
    "from keras.preprocessing.image import ImageDataGenerator"
   ]
  },
  {
   "cell_type": "code",
   "execution_count": 2,
   "id": "c87bdd45",
   "metadata": {},
   "outputs": [],
   "source": [
    "TrainingImagePath='E:\\Deep Learning\\CNN\\Train'\n",
    "validationImagePath='E:\\Deep Learning\\CNN\\Validation'"
   ]
  },
  {
   "cell_type": "code",
   "execution_count": 3,
   "id": "4717776b",
   "metadata": {},
   "outputs": [],
   "source": [
    "train_datagen = ImageDataGenerator(rescale=1./255)\n",
    "test_datagen = ImageDataGenerator(rescale=1./255)"
   ]
  },
  {
   "cell_type": "code",
   "execution_count": 4,
   "id": "def88ad7",
   "metadata": {},
   "outputs": [
    {
     "name": "stdout",
     "output_type": "stream",
     "text": [
      "Found 139 images belonging to 11 classes.\n"
     ]
    }
   ],
   "source": [
    "training_set = train_datagen.flow_from_directory(TrainingImagePath,target_size=(64,64),batch_size=20,class_mode='categorical')"
   ]
  },
  {
   "cell_type": "code",
   "execution_count": 5,
   "id": "3332e6e9",
   "metadata": {},
   "outputs": [
    {
     "name": "stdout",
     "output_type": "stream",
     "text": [
      "Found 59 images belonging to 11 classes.\n"
     ]
    }
   ],
   "source": [
    "validation_set = test_datagen.flow_from_directory(validationImagePath,target_size=(64,64),batch_size=20,class_mode='categorical')"
   ]
  },
  {
   "cell_type": "code",
   "execution_count": 6,
   "id": "b6067561",
   "metadata": {},
   "outputs": [],
   "source": [
    "from keras.models import Sequential\n",
    "from keras.layers import Convolution2D,MaxPooling2D,Flatten,Dense"
   ]
  },
  {
   "cell_type": "code",
   "execution_count": 7,
   "id": "49c1fdd5",
   "metadata": {},
   "outputs": [],
   "source": [
    "classifier = Sequential()"
   ]
  },
  {
   "cell_type": "code",
   "execution_count": 8,
   "id": "636a4981",
   "metadata": {},
   "outputs": [],
   "source": [
    "classifier.add(Convolution2D(32,kernel_size=(3,3),input_shape=(64,64,3),activation='relu'))"
   ]
  },
  {
   "cell_type": "code",
   "execution_count": 9,
   "id": "3542afef",
   "metadata": {},
   "outputs": [],
   "source": [
    "classifier.add(MaxPooling2D(pool_size=(2,2)))\n",
    "classifier.add(Convolution2D(64,kernel_size=(3,3),activation='relu'))"
   ]
  },
  {
   "cell_type": "code",
   "execution_count": 10,
   "id": "d27f6e38",
   "metadata": {},
   "outputs": [],
   "source": [
    "classifier.add(Flatten())"
   ]
  },
  {
   "cell_type": "code",
   "execution_count": 11,
   "id": "84334d90",
   "metadata": {},
   "outputs": [
    {
     "name": "stdout",
     "output_type": "stream",
     "text": [
      "Model: \"sequential\"\n",
      "_________________________________________________________________\n",
      " Layer (type)                Output Shape              Param #   \n",
      "=================================================================\n",
      " conv2d (Conv2D)             (None, 62, 62, 32)        896       \n",
      "                                                                 \n",
      " max_pooling2d (MaxPooling2D  (None, 31, 31, 32)       0         \n",
      " )                                                               \n",
      "                                                                 \n",
      " conv2d_1 (Conv2D)           (None, 29, 29, 64)        18496     \n",
      "                                                                 \n",
      " flatten (Flatten)           (None, 53824)             0         \n",
      "                                                                 \n",
      " dense (Dense)               (None, 64)                3444800   \n",
      "                                                                 \n",
      " dense_1 (Dense)             (None, 11)                715       \n",
      "                                                                 \n",
      "=================================================================\n",
      "Total params: 3,464,907\n",
      "Trainable params: 3,464,907\n",
      "Non-trainable params: 0\n",
      "_________________________________________________________________\n"
     ]
    }
   ],
   "source": [
    "classifier.add(Dense(64,activation='relu'))\n",
    "classifier.add(Dense(11,activation='softmax'))\n",
    "classifier.summary()"
   ]
  },
  {
   "cell_type": "code",
   "execution_count": 12,
   "id": "4e55fa3c",
   "metadata": {},
   "outputs": [],
   "source": [
    "classifier.compile(loss='categorical_crossentropy',optimizer='adam',metrics=['accuracy'])"
   ]
  },
  {
   "cell_type": "code",
   "execution_count": 13,
   "id": "d4c3e5e7",
   "metadata": {},
   "outputs": [
    {
     "name": "stderr",
     "output_type": "stream",
     "text": [
      "C:\\Users\\DELL\\AppData\\Local\\Temp\\ipykernel_19644\\1151864636.py:1: UserWarning: `Model.fit_generator` is deprecated and will be removed in a future version. Please use `Model.fit`, which supports generators.\n",
      "  history = classifier.fit_generator(training_set,epochs=20,validation_data=validation_set)\n"
     ]
    },
    {
     "name": "stdout",
     "output_type": "stream",
     "text": [
      "Epoch 1/20\n",
      "7/7 [==============================] - 7s 768ms/step - loss: 3.9882 - accuracy: 0.0935 - val_loss: 2.3723 - val_accuracy: 0.1017\n",
      "Epoch 2/20\n",
      "7/7 [==============================] - 2s 357ms/step - loss: 2.3334 - accuracy: 0.1223 - val_loss: 2.3140 - val_accuracy: 0.1186\n",
      "Epoch 3/20\n",
      "7/7 [==============================] - 2s 355ms/step - loss: 2.2748 - accuracy: 0.1655 - val_loss: 2.2717 - val_accuracy: 0.1356\n",
      "Epoch 4/20\n",
      "7/7 [==============================] - 2s 358ms/step - loss: 2.1569 - accuracy: 0.2734 - val_loss: 2.2091 - val_accuracy: 0.2712\n",
      "Epoch 5/20\n",
      "7/7 [==============================] - 2s 348ms/step - loss: 2.0003 - accuracy: 0.3597 - val_loss: 2.1298 - val_accuracy: 0.2373\n",
      "Epoch 6/20\n",
      "7/7 [==============================] - 2s 353ms/step - loss: 1.6940 - accuracy: 0.5540 - val_loss: 1.9963 - val_accuracy: 0.3390\n",
      "Epoch 7/20\n",
      "7/7 [==============================] - 2s 352ms/step - loss: 1.3682 - accuracy: 0.6691 - val_loss: 1.9108 - val_accuracy: 0.4068\n",
      "Epoch 8/20\n",
      "7/7 [==============================] - 2s 349ms/step - loss: 1.1084 - accuracy: 0.7698 - val_loss: 1.7574 - val_accuracy: 0.4576\n",
      "Epoch 9/20\n",
      "7/7 [==============================] - 2s 354ms/step - loss: 0.7607 - accuracy: 0.8633 - val_loss: 1.8682 - val_accuracy: 0.4068\n",
      "Epoch 10/20\n",
      "7/7 [==============================] - 3s 392ms/step - loss: 0.5983 - accuracy: 0.8849 - val_loss: 1.5532 - val_accuracy: 0.5254\n",
      "Epoch 11/20\n",
      "7/7 [==============================] - 2s 351ms/step - loss: 0.3687 - accuracy: 0.9353 - val_loss: 1.6759 - val_accuracy: 0.5593\n",
      "Epoch 12/20\n",
      "7/7 [==============================] - 2s 350ms/step - loss: 0.2478 - accuracy: 0.9496 - val_loss: 1.5071 - val_accuracy: 0.5593\n",
      "Epoch 13/20\n",
      "7/7 [==============================] - 2s 351ms/step - loss: 0.1284 - accuracy: 0.9856 - val_loss: 1.5291 - val_accuracy: 0.5424\n",
      "Epoch 14/20\n",
      "7/7 [==============================] - 2s 355ms/step - loss: 0.0702 - accuracy: 1.0000 - val_loss: 1.5074 - val_accuracy: 0.5763\n",
      "Epoch 15/20\n",
      "7/7 [==============================] - 2s 354ms/step - loss: 0.0437 - accuracy: 1.0000 - val_loss: 1.6041 - val_accuracy: 0.6102\n",
      "Epoch 16/20\n",
      "7/7 [==============================] - 2s 352ms/step - loss: 0.0255 - accuracy: 1.0000 - val_loss: 1.5584 - val_accuracy: 0.6271\n",
      "Epoch 17/20\n",
      "7/7 [==============================] - 2s 357ms/step - loss: 0.0155 - accuracy: 1.0000 - val_loss: 1.6257 - val_accuracy: 0.6102\n",
      "Epoch 18/20\n",
      "7/7 [==============================] - 2s 351ms/step - loss: 0.0119 - accuracy: 1.0000 - val_loss: 1.6095 - val_accuracy: 0.6102\n",
      "Epoch 19/20\n",
      "7/7 [==============================] - 3s 390ms/step - loss: 0.0086 - accuracy: 1.0000 - val_loss: 1.6426 - val_accuracy: 0.6271\n",
      "Epoch 20/20\n",
      "7/7 [==============================] - 2s 353ms/step - loss: 0.0067 - accuracy: 1.0000 - val_loss: 1.6614 - val_accuracy: 0.6271\n"
     ]
    }
   ],
   "source": [
    "history = classifier.fit_generator(training_set,epochs=20,validation_data=validation_set)"
   ]
  },
  {
   "cell_type": "code",
   "execution_count": 14,
   "id": "67ad71d2",
   "metadata": {},
   "outputs": [],
   "source": [
    "import matplotlib.pyplot as plt"
   ]
  },
  {
   "cell_type": "code",
   "execution_count": 15,
   "id": "021cb2e9",
   "metadata": {},
   "outputs": [],
   "source": [
    "acc= history.history['accuracy']\n",
    "val_acc = history.history['val_accuracy']\n",
    "loss = history.history['loss']\n",
    "val_loss = history.history['val_loss']"
   ]
  },
  {
   "cell_type": "code",
   "execution_count": 16,
   "id": "e6b921b3",
   "metadata": {},
   "outputs": [],
   "source": [
    "epochs = range(1,len(acc)+1)"
   ]
  },
  {
   "cell_type": "code",
   "execution_count": 17,
   "id": "3f431571",
   "metadata": {},
   "outputs": [
    {
     "data": {
      "text/plain": [
       "<Figure size 432x288 with 0 Axes>"
      ]
     },
     "execution_count": 17,
     "metadata": {},
     "output_type": "execute_result"
    },
    {
     "data": {
      "image/png": "[encoded data removed]",
      "text/plain": [
       "<Figure size 432x288 with 1 Axes>"
      ]
     },
     "metadata": {
      "needs_background": "light"
     },
     "output_type": "display_data"
    },
    {
     "data": {
      "text/plain": [
       "<Figure size 432x288 with 0 Axes>"
      ]
     },
     "metadata": {},
     "output_type": "display_data"
    }
   ],
   "source": [
    "plt.plot(epochs,acc,'bo',label='Training acc')\n",
    "plt.plot(epochs,val_acc,'r',label='validation acc')\n",
    "plt.legend()\n",
    "plt.figure()"
   ]
  },
  {
   "cell_type": "code",
   "execution_count": 18,
   "id": "c84d33b6",
   "metadata": {},
   "outputs": [
    {
     "data": {
      "text/plain": [
       "<Figure size 432x288 with 0 Axes>"
      ]
     },
     "execution_count": 18,
     "metadata": {},
     "output_type": "execute_result"
    },
    {
     "data": {
      "image/png": "[encoded data removed]",
      "text/plain": [
       "<Figure size 432x288 with 1 Axes>"
      ]
     },
     "metadata": {
      "needs_background": "light"
     },
     "output_type": "display_data"
    },
    {
     "data": {
      "text/plain": [
       "<Figure size 432x288 with 0 Axes>"
      ]
     },
     "metadata": {},
     "output_type": "display_data"
    }
   ],
   "source": [
    "plt.plot(epochs,loss,'bo',label='Training loss')\n",
    "plt.plot(epochs,val_loss,'r',label='validation loss')\n",
    "plt.legend()\n",
    "plt.figure()"
   ]
  },
  {
   "cell_type": "markdown",
   "id": "3440c218",
   "metadata": {},
   "source": [
    "# Model 2"
   ]
  },
  {
   "cell_type": "code",
   "execution_count": 19,
   "id": "7f5e26e3",
   "metadata": {},
   "outputs": [],
   "source": [
    "train_datagen =ImageDataGenerator(rescale=1./255,shear_range=0.5,zoom_range=0.5,width_shift_range=0.2,height_shift_range=0.2)"
   ]
  },
  {
   "cell_type": "code",
   "execution_count": 20,
   "id": "b6d7707a",
   "metadata": {},
   "outputs": [],
   "source": [
    "test_datagen = ImageDataGenerator(rescale=1./255)"
   ]
  },
  {
   "cell_type": "code",
   "execution_count": 21,
   "id": "53f84a10",
   "metadata": {},
   "outputs": [
    {
     "name": "stdout",
     "output_type": "stream",
     "text": [
      "Found 139 images belonging to 11 classes.\n"
     ]
    }
   ],
   "source": [
    "training_set = train_datagen.flow_from_directory(TrainingImagePath,target_size=(64,64),batch_size=20,class_mode='categorical')"
   ]
  },
  {
   "cell_type": "code",
   "execution_count": 22,
   "id": "490ee695",
   "metadata": {},
   "outputs": [
    {
     "name": "stdout",
     "output_type": "stream",
     "text": [
      "Found 59 images belonging to 11 classes.\n"
     ]
    }
   ],
   "source": [
    "validation_set= test_datagen.flow_from_directory(validationImagePath,target_size=(64,64),batch_size=20,class_mode='categorical')"
   ]
  },
  {
   "cell_type": "code",
   "execution_count": 23,
   "id": "69f3c0aa",
   "metadata": {},
   "outputs": [],
   "source": [
    "classifier=Sequential()"
   ]
  },
  {
   "cell_type": "code",
   "execution_count": 24,
   "id": "32edecc9",
   "metadata": {},
   "outputs": [],
   "source": [
    "classifier.add(Convolution2D(32,kernel_size=(3,3),input_shape=(64,64,3),activation='relu'))"
   ]
  },
  {
   "cell_type": "code",
   "execution_count": 25,
   "id": "d226dd9b",
   "metadata": {},
   "outputs": [],
   "source": [
    "classifier.add(MaxPooling2D(pool_size=(2,2)))\n",
    "classifier.add(Convolution2D(64,kernel_size=(3,3),activation='relu'))"
   ]
  },
  {
   "cell_type": "code",
   "execution_count": 26,
   "id": "887ddefa",
   "metadata": {},
   "outputs": [],
   "source": [
    "classifier.add(Flatten())"
   ]
  },
  {
   "cell_type": "code",
   "execution_count": 27,
   "id": "6dd5d1f0",
   "metadata": {},
   "outputs": [
    {
     "name": "stdout",
     "output_type": "stream",
     "text": [
      "Model: \"sequential_1\"\n",
      "_________________________________________________________________\n",
      " Layer (type)                Output Shape              Param #   \n",
      "=================================================================\n",
      " conv2d_2 (Conv2D)           (None, 62, 62, 32)        896       \n",
      "                                                                 \n",
      " max_pooling2d_1 (MaxPooling  (None, 31, 31, 32)       0         \n",
      " 2D)                                                             \n",
      "                                                                 \n",
      " conv2d_3 (Conv2D)           (None, 29, 29, 64)        18496     \n",
      "                                                                 \n",
      " flatten_1 (Flatten)         (None, 53824)             0         \n",
      "                                                                 \n",
      " dense_2 (Dense)             (None, 64)                3444800   \n",
      "                                                                 \n",
      " dense_3 (Dense)             (None, 11)                715       \n",
      "                                                                 \n",
      "=================================================================\n",
      "Total params: 3,464,907\n",
      "Trainable params: 3,464,907\n",
      "Non-trainable params: 0\n",
      "_________________________________________________________________\n"
     ]
    }
   ],
   "source": [
    "classifier.add(Dense(64,activation='relu'))\n",
    "classifier.add(Dense(11,activation='softmax'))\n",
    "classifier.summary()"
   ]
  },
  {
   "cell_type": "code",
   "execution_count": 28,
   "id": "e2914c50",
   "metadata": {},
   "outputs": [],
   "source": [
    "classifier.compile(loss='categorical_crossentropy',optimizer='adam',metrics=['accuracy'])"
   ]
  },
  {
   "cell_type": "code",
   "execution_count": 29,
   "id": "8a9c9cc6",
   "metadata": {},
   "outputs": [
    {
     "name": "stderr",
     "output_type": "stream",
     "text": [
      "C:\\Users\\DELL\\AppData\\Local\\Temp\\ipykernel_19644\\1342169996.py:1: UserWarning: `Model.fit_generator` is deprecated and will be removed in a future version. Please use `Model.fit`, which supports generators.\n",
      "  history = classifier.fit_generator(training_set,epochs=200,validation_data=validation_set)\n"
     ]
    },
    {
     "name": "stdout",
     "output_type": "stream",
     "text": [
      "Epoch 1/200\n",
      "7/7 [==============================] - 5s 541ms/step - loss: 2.8639 - accuracy: 0.1007 - val_loss: 2.3306 - val_accuracy: 0.1864\n",
      "Epoch 2/200\n",
      "7/7 [==============================] - 3s 471ms/step - loss: 2.3583 - accuracy: 0.1727 - val_loss: 2.3048 - val_accuracy: 0.1864\n",
      "Epoch 3/200\n",
      "7/7 [==============================] - 3s 388ms/step - loss: 2.3060 - accuracy: 0.1151 - val_loss: 2.2377 - val_accuracy: 0.1525\n",
      "Epoch 4/200\n",
      "7/7 [==============================] - 3s 375ms/step - loss: 2.2675 - accuracy: 0.1799 - val_loss: 2.2456 - val_accuracy: 0.1525\n",
      "Epoch 5/200\n",
      "7/7 [==============================] - 3s 384ms/step - loss: 2.2139 - accuracy: 0.2086 - val_loss: 2.1160 - val_accuracy: 0.4068\n",
      "Epoch 6/200\n",
      "7/7 [==============================] - 3s 377ms/step - loss: 2.1631 - accuracy: 0.2590 - val_loss: 2.1152 - val_accuracy: 0.2881\n",
      "Epoch 7/200\n",
      "7/7 [==============================] - 3s 378ms/step - loss: 2.0453 - accuracy: 0.2518 - val_loss: 2.0288 - val_accuracy: 0.3051\n",
      "Epoch 8/200\n",
      "7/7 [==============================] - 3s 388ms/step - loss: 2.0835 - accuracy: 0.3022 - val_loss: 1.9761 - val_accuracy: 0.3898\n",
      "Epoch 9/200\n",
      "7/7 [==============================] - 3s 373ms/step - loss: 1.9121 - accuracy: 0.3813 - val_loss: 1.9709 - val_accuracy: 0.4237\n",
      "Epoch 10/200\n",
      "7/7 [==============================] - 3s 373ms/step - loss: 1.9475 - accuracy: 0.3669 - val_loss: 1.8138 - val_accuracy: 0.4407\n",
      "Epoch 11/200\n",
      "7/7 [==============================] - 3s 374ms/step - loss: 1.8496 - accuracy: 0.3453 - val_loss: 1.7725 - val_accuracy: 0.4068\n",
      "Epoch 12/200\n",
      "7/7 [==============================] - 3s 383ms/step - loss: 1.7796 - accuracy: 0.3453 - val_loss: 1.5649 - val_accuracy: 0.5424\n",
      "Epoch 13/200\n",
      "7/7 [==============================] - 3s 373ms/step - loss: 1.6784 - accuracy: 0.4532 - val_loss: 1.8232 - val_accuracy: 0.3729\n",
      "Epoch 14/200\n",
      "7/7 [==============================] - 3s 381ms/step - loss: 1.7414 - accuracy: 0.4173 - val_loss: 1.4570 - val_accuracy: 0.5763\n",
      "Epoch 15/200\n",
      "7/7 [==============================] - 3s 376ms/step - loss: 1.5989 - accuracy: 0.4460 - val_loss: 1.3938 - val_accuracy: 0.5593\n",
      "Epoch 16/200\n",
      "7/7 [==============================] - 3s 375ms/step - loss: 1.5389 - accuracy: 0.5036 - val_loss: 1.4093 - val_accuracy: 0.5085\n",
      "Epoch 17/200\n",
      "7/7 [==============================] - 3s 377ms/step - loss: 1.4996 - accuracy: 0.4820 - val_loss: 1.3534 - val_accuracy: 0.5424\n",
      "Epoch 18/200\n",
      "7/7 [==============================] - 3s 373ms/step - loss: 1.4942 - accuracy: 0.4820 - val_loss: 1.2659 - val_accuracy: 0.5932\n",
      "Epoch 19/200\n",
      "7/7 [==============================] - 3s 374ms/step - loss: 1.3762 - accuracy: 0.5683 - val_loss: 1.2831 - val_accuracy: 0.6441\n",
      "Epoch 20/200\n",
      "7/7 [==============================] - 3s 386ms/step - loss: 1.3448 - accuracy: 0.5396 - val_loss: 1.2184 - val_accuracy: 0.5932\n",
      "Epoch 21/200\n",
      "7/7 [==============================] - 3s 424ms/step - loss: 1.2679 - accuracy: 0.5324 - val_loss: 1.0657 - val_accuracy: 0.6441\n",
      "Epoch 22/200\n",
      "7/7 [==============================] - 3s 385ms/step - loss: 1.3147 - accuracy: 0.6043 - val_loss: 1.1346 - val_accuracy: 0.5932\n",
      "Epoch 23/200\n",
      "7/7 [==============================] - 3s 375ms/step - loss: 1.3270 - accuracy: 0.5899 - val_loss: 1.1395 - val_accuracy: 0.6441\n",
      "Epoch 24/200\n",
      "7/7 [==============================] - 3s 369ms/step - loss: 1.1876 - accuracy: 0.5755 - val_loss: 0.9659 - val_accuracy: 0.6949\n",
      "Epoch 25/200\n",
      "7/7 [==============================] - 3s 380ms/step - loss: 1.2400 - accuracy: 0.5827 - val_loss: 1.1882 - val_accuracy: 0.6102\n",
      "Epoch 26/200\n",
      "7/7 [==============================] - 3s 377ms/step - loss: 0.9780 - accuracy: 0.6475 - val_loss: 1.0906 - val_accuracy: 0.6780\n",
      "Epoch 27/200\n",
      "7/7 [==============================] - 3s 446ms/step - loss: 1.1793 - accuracy: 0.5540 - val_loss: 0.9703 - val_accuracy: 0.6271\n",
      "Epoch 28/200\n",
      "7/7 [==============================] - 3s 374ms/step - loss: 1.0748 - accuracy: 0.6475 - val_loss: 0.9411 - val_accuracy: 0.6780\n",
      "Epoch 29/200\n",
      "7/7 [==============================] - 3s 388ms/step - loss: 1.2564 - accuracy: 0.5971 - val_loss: 0.9540 - val_accuracy: 0.6102\n",
      "Epoch 30/200\n",
      "7/7 [==============================] - 3s 369ms/step - loss: 0.9865 - accuracy: 0.6619 - val_loss: 0.9865 - val_accuracy: 0.6949\n",
      "Epoch 31/200\n",
      "7/7 [==============================] - 3s 373ms/step - loss: 0.9854 - accuracy: 0.6619 - val_loss: 1.1309 - val_accuracy: 0.6271\n",
      "Epoch 32/200\n",
      "7/7 [==============================] - 3s 373ms/step - loss: 1.0584 - accuracy: 0.6043 - val_loss: 0.8308 - val_accuracy: 0.7288\n",
      "Epoch 33/200\n",
      "7/7 [==============================] - 3s 455ms/step - loss: 0.9575 - accuracy: 0.6763 - val_loss: 0.7316 - val_accuracy: 0.7797\n",
      "Epoch 34/200\n",
      "7/7 [==============================] - 4s 528ms/step - loss: 0.7855 - accuracy: 0.7770 - val_loss: 0.7147 - val_accuracy: 0.7627\n",
      "Epoch 35/200\n",
      "7/7 [==============================] - 4s 535ms/step - loss: 1.0079 - accuracy: 0.6547 - val_loss: 1.0321 - val_accuracy: 0.6780\n",
      "Epoch 36/200\n",
      "7/7 [==============================] - 4s 516ms/step - loss: 0.9461 - accuracy: 0.7266 - val_loss: 0.8794 - val_accuracy: 0.6949\n",
      "Epoch 37/200\n",
      "7/7 [==============================] - 3s 424ms/step - loss: 0.9007 - accuracy: 0.7194 - val_loss: 0.8180 - val_accuracy: 0.6949\n",
      "Epoch 38/200\n",
      "7/7 [==============================] - 3s 411ms/step - loss: 0.8607 - accuracy: 0.6978 - val_loss: 0.8110 - val_accuracy: 0.7966\n",
      "Epoch 39/200\n",
      "7/7 [==============================] - 3s 492ms/step - loss: 0.9069 - accuracy: 0.7410 - val_loss: 0.6265 - val_accuracy: 0.7966\n",
      "Epoch 40/200\n",
      "7/7 [==============================] - 4s 538ms/step - loss: 0.7552 - accuracy: 0.7770 - val_loss: 0.6984 - val_accuracy: 0.7627\n",
      "Epoch 41/200\n",
      "7/7 [==============================] - 4s 543ms/step - loss: 0.8449 - accuracy: 0.6906 - val_loss: 0.8432 - val_accuracy: 0.7288\n",
      "Epoch 42/200\n",
      "7/7 [==============================] - 3s 449ms/step - loss: 0.7853 - accuracy: 0.7122 - val_loss: 0.6380 - val_accuracy: 0.7966\n",
      "Epoch 43/200\n",
      "7/7 [==============================] - 4s 510ms/step - loss: 0.9317 - accuracy: 0.6619 - val_loss: 1.1088 - val_accuracy: 0.6949\n",
      "Epoch 44/200\n",
      "7/7 [==============================] - 3s 465ms/step - loss: 0.8379 - accuracy: 0.7338 - val_loss: 0.6944 - val_accuracy: 0.7288\n",
      "Epoch 45/200\n",
      "7/7 [==============================] - 3s 445ms/step - loss: 0.8912 - accuracy: 0.7122 - val_loss: 0.7320 - val_accuracy: 0.7797\n",
      "Epoch 46/200\n",
      "7/7 [==============================] - 3s 458ms/step - loss: 0.8139 - accuracy: 0.7482 - val_loss: 0.5254 - val_accuracy: 0.8644\n",
      "Epoch 47/200\n",
      "7/7 [==============================] - 3s 516ms/step - loss: 0.6995 - accuracy: 0.7842 - val_loss: 0.7357 - val_accuracy: 0.7797\n",
      "Epoch 48/200\n",
      "7/7 [==============================] - 3s 446ms/step - loss: 0.6787 - accuracy: 0.7698 - val_loss: 0.5026 - val_accuracy: 0.8136\n",
      "Epoch 49/200\n",
      "7/7 [==============================] - 3s 449ms/step - loss: 0.7730 - accuracy: 0.7410 - val_loss: 0.5766 - val_accuracy: 0.8136\n",
      "Epoch 50/200\n",
      "7/7 [==============================] - 3s 483ms/step - loss: 0.6811 - accuracy: 0.7914 - val_loss: 0.5153 - val_accuracy: 0.7966\n",
      "Epoch 51/200\n",
      "7/7 [==============================] - 3s 380ms/step - loss: 0.6178 - accuracy: 0.8058 - val_loss: 0.5451 - val_accuracy: 0.8644\n",
      "Epoch 52/200\n",
      "7/7 [==============================] - 3s 371ms/step - loss: 0.7004 - accuracy: 0.7770 - val_loss: 0.5495 - val_accuracy: 0.8136\n",
      "Epoch 53/200\n",
      "7/7 [==============================] - 3s 374ms/step - loss: 0.6407 - accuracy: 0.8129 - val_loss: 0.4636 - val_accuracy: 0.8814\n",
      "Epoch 54/200\n",
      "7/7 [==============================] - 3s 429ms/step - loss: 0.5691 - accuracy: 0.8561 - val_loss: 0.6055 - val_accuracy: 0.8305\n",
      "Epoch 55/200\n",
      "7/7 [==============================] - 3s 380ms/step - loss: 0.6796 - accuracy: 0.7842 - val_loss: 0.4764 - val_accuracy: 0.8475\n",
      "Epoch 56/200\n",
      "7/7 [==============================] - 3s 377ms/step - loss: 0.4684 - accuracy: 0.8561 - val_loss: 0.4309 - val_accuracy: 0.8983\n",
      "Epoch 57/200\n",
      "7/7 [==============================] - 3s 409ms/step - loss: 0.5566 - accuracy: 0.8705 - val_loss: 0.5321 - val_accuracy: 0.8475\n",
      "Epoch 58/200\n",
      "7/7 [==============================] - 3s 391ms/step - loss: 0.5900 - accuracy: 0.8058 - val_loss: 0.5373 - val_accuracy: 0.8644\n"
     ]
    },
    {
     "name": "stdout",
     "output_type": "stream",
     "text": [
      "Epoch 59/200\n",
      "7/7 [==============================] - 3s 444ms/step - loss: 0.5480 - accuracy: 0.8273 - val_loss: 0.4116 - val_accuracy: 0.8305\n",
      "Epoch 60/200\n",
      "7/7 [==============================] - 3s 370ms/step - loss: 0.5365 - accuracy: 0.7986 - val_loss: 0.5956 - val_accuracy: 0.7458\n",
      "Epoch 61/200\n",
      "7/7 [==============================] - 3s 383ms/step - loss: 0.5742 - accuracy: 0.8201 - val_loss: 0.4237 - val_accuracy: 0.8644\n",
      "Epoch 62/200\n",
      "7/7 [==============================] - 3s 457ms/step - loss: 0.4867 - accuracy: 0.8561 - val_loss: 0.4494 - val_accuracy: 0.8644\n",
      "Epoch 63/200\n",
      "7/7 [==============================] - 3s 379ms/step - loss: 0.5444 - accuracy: 0.8201 - val_loss: 0.4603 - val_accuracy: 0.8814\n",
      "Epoch 64/200\n",
      "7/7 [==============================] - 3s 401ms/step - loss: 0.5486 - accuracy: 0.8201 - val_loss: 0.3945 - val_accuracy: 0.7966\n",
      "Epoch 65/200\n",
      "7/7 [==============================] - 3s 426ms/step - loss: 0.5452 - accuracy: 0.8417 - val_loss: 0.4856 - val_accuracy: 0.7966\n",
      "Epoch 66/200\n",
      "7/7 [==============================] - 3s 480ms/step - loss: 0.5812 - accuracy: 0.8058 - val_loss: 0.5494 - val_accuracy: 0.8305\n",
      "Epoch 67/200\n",
      "7/7 [==============================] - 3s 495ms/step - loss: 0.4491 - accuracy: 0.8633 - val_loss: 0.5198 - val_accuracy: 0.8475\n",
      "Epoch 68/200\n",
      "7/7 [==============================] - 3s 382ms/step - loss: 0.5579 - accuracy: 0.8129 - val_loss: 0.5895 - val_accuracy: 0.8136\n",
      "Epoch 69/200\n",
      "7/7 [==============================] - 3s 383ms/step - loss: 0.5224 - accuracy: 0.8417 - val_loss: 0.5669 - val_accuracy: 0.8136\n",
      "Epoch 70/200\n",
      "7/7 [==============================] - 3s 443ms/step - loss: 0.6039 - accuracy: 0.8273 - val_loss: 0.5310 - val_accuracy: 0.8136\n",
      "Epoch 71/200\n",
      "7/7 [==============================] - 3s 464ms/step - loss: 0.4604 - accuracy: 0.8489 - val_loss: 0.4729 - val_accuracy: 0.8305\n",
      "Epoch 72/200\n",
      "7/7 [==============================] - 3s 384ms/step - loss: 0.4243 - accuracy: 0.8705 - val_loss: 0.5882 - val_accuracy: 0.8136\n",
      "Epoch 73/200\n",
      "7/7 [==============================] - 3s 402ms/step - loss: 0.5324 - accuracy: 0.8777 - val_loss: 0.3439 - val_accuracy: 0.8983\n",
      "Epoch 74/200\n",
      "7/7 [==============================] - 3s 386ms/step - loss: 0.5672 - accuracy: 0.8129 - val_loss: 0.7130 - val_accuracy: 0.8136\n",
      "Epoch 75/200\n",
      "7/7 [==============================] - 3s 395ms/step - loss: 0.5297 - accuracy: 0.8273 - val_loss: 0.4507 - val_accuracy: 0.8475\n",
      "Epoch 76/200\n",
      "7/7 [==============================] - 3s 417ms/step - loss: 0.4358 - accuracy: 0.8489 - val_loss: 0.8002 - val_accuracy: 0.7288\n",
      "Epoch 77/200\n",
      "7/7 [==============================] - 3s 397ms/step - loss: 0.5018 - accuracy: 0.8129 - val_loss: 0.4925 - val_accuracy: 0.8814\n",
      "Epoch 78/200\n",
      "7/7 [==============================] - 3s 413ms/step - loss: 0.5689 - accuracy: 0.8058 - val_loss: 0.3391 - val_accuracy: 0.9153\n",
      "Epoch 79/200\n",
      "7/7 [==============================] - 3s 405ms/step - loss: 0.2923 - accuracy: 0.9209 - val_loss: 0.5317 - val_accuracy: 0.7966\n",
      "Epoch 80/200\n",
      "7/7 [==============================] - 3s 422ms/step - loss: 0.3785 - accuracy: 0.8705 - val_loss: 0.7383 - val_accuracy: 0.7966\n",
      "Epoch 81/200\n",
      "7/7 [==============================] - 3s 471ms/step - loss: 0.4670 - accuracy: 0.8345 - val_loss: 0.3630 - val_accuracy: 0.8814\n",
      "Epoch 82/200\n",
      "7/7 [==============================] - 3s 429ms/step - loss: 0.7108 - accuracy: 0.7410 - val_loss: 0.4846 - val_accuracy: 0.7966\n",
      "Epoch 83/200\n",
      "7/7 [==============================] - 3s 487ms/step - loss: 0.4242 - accuracy: 0.8345 - val_loss: 0.4516 - val_accuracy: 0.8644\n",
      "Epoch 84/200\n",
      "7/7 [==============================] - 3s 392ms/step - loss: 0.6674 - accuracy: 0.7842 - val_loss: 0.5322 - val_accuracy: 0.8136\n",
      "Epoch 85/200\n",
      "7/7 [==============================] - 3s 385ms/step - loss: 0.4146 - accuracy: 0.8561 - val_loss: 0.4473 - val_accuracy: 0.8814\n",
      "Epoch 86/200\n",
      "7/7 [==============================] - 3s 380ms/step - loss: 0.4481 - accuracy: 0.8489 - val_loss: 0.4075 - val_accuracy: 0.8814\n",
      "Epoch 87/200\n",
      "7/7 [==============================] - 3s 380ms/step - loss: 0.4027 - accuracy: 0.8633 - val_loss: 0.5788 - val_accuracy: 0.8136\n",
      "Epoch 88/200\n",
      "7/7 [==============================] - 3s 380ms/step - loss: 0.3499 - accuracy: 0.8921 - val_loss: 0.4600 - val_accuracy: 0.8475\n",
      "Epoch 89/200\n",
      "7/7 [==============================] - 3s 370ms/step - loss: 0.3968 - accuracy: 0.8561 - val_loss: 0.6519 - val_accuracy: 0.8305\n",
      "Epoch 90/200\n",
      "7/7 [==============================] - 3s 419ms/step - loss: 0.3283 - accuracy: 0.8921 - val_loss: 0.3648 - val_accuracy: 0.8644\n",
      "Epoch 91/200\n",
      "7/7 [==============================] - 3s 447ms/step - loss: 0.3229 - accuracy: 0.8849 - val_loss: 0.5399 - val_accuracy: 0.8305\n",
      "Epoch 92/200\n",
      "7/7 [==============================] - 3s 394ms/step - loss: 0.3227 - accuracy: 0.8993 - val_loss: 0.3849 - val_accuracy: 0.8814\n",
      "Epoch 93/200\n",
      "7/7 [==============================] - 4s 537ms/step - loss: 0.3083 - accuracy: 0.9065 - val_loss: 0.5518 - val_accuracy: 0.8305\n",
      "Epoch 94/200\n",
      "7/7 [==============================] - 3s 376ms/step - loss: 0.3885 - accuracy: 0.8561 - val_loss: 0.6151 - val_accuracy: 0.8305\n",
      "Epoch 95/200\n",
      "7/7 [==============================] - 3s 453ms/step - loss: 0.3738 - accuracy: 0.8633 - val_loss: 0.6253 - val_accuracy: 0.7966\n",
      "Epoch 96/200\n",
      "7/7 [==============================] - 3s 386ms/step - loss: 0.3689 - accuracy: 0.8705 - val_loss: 0.4754 - val_accuracy: 0.8814\n",
      "Epoch 97/200\n",
      "7/7 [==============================] - 3s 404ms/step - loss: 0.3034 - accuracy: 0.8993 - val_loss: 0.7014 - val_accuracy: 0.8475\n",
      "Epoch 98/200\n",
      "7/7 [==============================] - 3s 404ms/step - loss: 0.3404 - accuracy: 0.8921 - val_loss: 0.3950 - val_accuracy: 0.8305\n",
      "Epoch 99/200\n",
      "7/7 [==============================] - 3s 371ms/step - loss: 0.4005 - accuracy: 0.8705 - val_loss: 0.4146 - val_accuracy: 0.8983\n",
      "Epoch 100/200\n",
      "7/7 [==============================] - 3s 374ms/step - loss: 0.4388 - accuracy: 0.8489 - val_loss: 0.7318 - val_accuracy: 0.8136\n",
      "Epoch 101/200\n",
      "7/7 [==============================] - 3s 367ms/step - loss: 0.3923 - accuracy: 0.8705 - val_loss: 0.5720 - val_accuracy: 0.8305\n",
      "Epoch 102/200\n",
      "7/7 [==============================] - 3s 368ms/step - loss: 0.4084 - accuracy: 0.8633 - val_loss: 0.5524 - val_accuracy: 0.8475\n",
      "Epoch 103/200\n",
      "7/7 [==============================] - 3s 368ms/step - loss: 0.2609 - accuracy: 0.9137 - val_loss: 0.3662 - val_accuracy: 0.8814\n",
      "Epoch 104/200\n",
      "7/7 [==============================] - 3s 376ms/step - loss: 0.4032 - accuracy: 0.8705 - val_loss: 0.4034 - val_accuracy: 0.8983\n",
      "Epoch 105/200\n",
      "7/7 [==============================] - 3s 381ms/step - loss: 0.3196 - accuracy: 0.8993 - val_loss: 0.4327 - val_accuracy: 0.8475\n",
      "Epoch 106/200\n",
      "7/7 [==============================] - 3s 370ms/step - loss: 0.3196 - accuracy: 0.9281 - val_loss: 0.3569 - val_accuracy: 0.8644\n",
      "Epoch 107/200\n",
      "7/7 [==============================] - 3s 370ms/step - loss: 0.3034 - accuracy: 0.9281 - val_loss: 0.3774 - val_accuracy: 0.8644\n",
      "Epoch 108/200\n",
      "7/7 [==============================] - 3s 366ms/step - loss: 0.3682 - accuracy: 0.8777 - val_loss: 0.5672 - val_accuracy: 0.8305\n",
      "Epoch 109/200\n",
      "7/7 [==============================] - 3s 370ms/step - loss: 0.3799 - accuracy: 0.8705 - val_loss: 0.5902 - val_accuracy: 0.8136\n",
      "Epoch 110/200\n",
      "7/7 [==============================] - 3s 370ms/step - loss: 0.3255 - accuracy: 0.8705 - val_loss: 0.3079 - val_accuracy: 0.8983\n",
      "Epoch 111/200\n",
      "7/7 [==============================] - 3s 366ms/step - loss: 0.2325 - accuracy: 0.9353 - val_loss: 0.3800 - val_accuracy: 0.8305\n",
      "Epoch 112/200\n",
      "7/7 [==============================] - 3s 372ms/step - loss: 0.3718 - accuracy: 0.8849 - val_loss: 0.4054 - val_accuracy: 0.8305\n",
      "Epoch 113/200\n",
      "7/7 [==============================] - 3s 366ms/step - loss: 0.2401 - accuracy: 0.9353 - val_loss: 0.2624 - val_accuracy: 0.8983\n",
      "Epoch 114/200\n",
      "7/7 [==============================] - 3s 367ms/step - loss: 0.3254 - accuracy: 0.8777 - val_loss: 0.3090 - val_accuracy: 0.8814\n",
      "Epoch 115/200\n",
      "7/7 [==============================] - 3s 393ms/step - loss: 0.2802 - accuracy: 0.9065 - val_loss: 0.2894 - val_accuracy: 0.8814\n",
      "Epoch 116/200\n"
     ]
    },
    {
     "name": "stdout",
     "output_type": "stream",
     "text": [
      "7/7 [==============================] - 3s 440ms/step - loss: 0.2371 - accuracy: 0.9137 - val_loss: 0.2765 - val_accuracy: 0.8814\n",
      "Epoch 117/200\n",
      "7/7 [==============================] - 3s 406ms/step - loss: 0.2099 - accuracy: 0.9496 - val_loss: 0.5607 - val_accuracy: 0.8644\n",
      "Epoch 118/200\n",
      "7/7 [==============================] - 3s 385ms/step - loss: 0.3164 - accuracy: 0.9065 - val_loss: 0.3046 - val_accuracy: 0.9153\n",
      "Epoch 119/200\n",
      "7/7 [==============================] - 3s 454ms/step - loss: 0.5421 - accuracy: 0.8058 - val_loss: 0.4334 - val_accuracy: 0.8136\n",
      "Epoch 120/200\n",
      "7/7 [==============================] - 3s 411ms/step - loss: 0.3156 - accuracy: 0.8705 - val_loss: 0.3806 - val_accuracy: 0.9153\n",
      "Epoch 121/200\n",
      "7/7 [==============================] - 3s 472ms/step - loss: 0.2992 - accuracy: 0.8777 - val_loss: 0.6833 - val_accuracy: 0.8136\n",
      "Epoch 122/200\n",
      "7/7 [==============================] - 3s 391ms/step - loss: 0.3206 - accuracy: 0.8849 - val_loss: 0.3300 - val_accuracy: 0.8644\n",
      "Epoch 123/200\n",
      "7/7 [==============================] - 3s 387ms/step - loss: 0.3952 - accuracy: 0.8777 - val_loss: 0.4121 - val_accuracy: 0.8814\n",
      "Epoch 124/200\n",
      "7/7 [==============================] - 3s 515ms/step - loss: 0.2972 - accuracy: 0.8849 - val_loss: 0.3748 - val_accuracy: 0.8814\n",
      "Epoch 125/200\n",
      "7/7 [==============================] - 3s 428ms/step - loss: 0.2579 - accuracy: 0.9209 - val_loss: 0.5009 - val_accuracy: 0.7797\n",
      "Epoch 126/200\n",
      "7/7 [==============================] - 3s 454ms/step - loss: 0.3017 - accuracy: 0.8921 - val_loss: 0.2936 - val_accuracy: 0.8983\n",
      "Epoch 127/200\n",
      "7/7 [==============================] - 3s 402ms/step - loss: 0.2620 - accuracy: 0.9137 - val_loss: 0.4519 - val_accuracy: 0.8644\n",
      "Epoch 128/200\n",
      "7/7 [==============================] - 3s 507ms/step - loss: 0.3042 - accuracy: 0.9209 - val_loss: 0.4065 - val_accuracy: 0.8814\n",
      "Epoch 129/200\n",
      "7/7 [==============================] - 3s 441ms/step - loss: 0.4059 - accuracy: 0.8777 - val_loss: 0.6374 - val_accuracy: 0.8305\n",
      "Epoch 130/200\n",
      "7/7 [==============================] - 3s 426ms/step - loss: 0.2711 - accuracy: 0.9137 - val_loss: 0.4282 - val_accuracy: 0.8983\n",
      "Epoch 131/200\n",
      "7/7 [==============================] - 3s 416ms/step - loss: 0.3033 - accuracy: 0.8849 - val_loss: 0.4884 - val_accuracy: 0.8475\n",
      "Epoch 132/200\n",
      "7/7 [==============================] - 3s 462ms/step - loss: 0.2549 - accuracy: 0.9353 - val_loss: 0.5486 - val_accuracy: 0.7966\n",
      "Epoch 133/200\n",
      "7/7 [==============================] - 3s 400ms/step - loss: 0.3393 - accuracy: 0.9281 - val_loss: 0.6373 - val_accuracy: 0.7966\n",
      "Epoch 134/200\n",
      "7/7 [==============================] - 3s 403ms/step - loss: 0.2663 - accuracy: 0.9424 - val_loss: 0.4629 - val_accuracy: 0.8305\n",
      "Epoch 135/200\n",
      "7/7 [==============================] - 3s 442ms/step - loss: 0.2226 - accuracy: 0.9065 - val_loss: 0.4325 - val_accuracy: 0.8305\n",
      "Epoch 136/200\n",
      "7/7 [==============================] - 3s 452ms/step - loss: 0.2351 - accuracy: 0.9353 - val_loss: 0.5816 - val_accuracy: 0.8305\n",
      "Epoch 137/200\n",
      "7/7 [==============================] - 3s 416ms/step - loss: 0.3508 - accuracy: 0.8705 - val_loss: 0.4181 - val_accuracy: 0.8983\n",
      "Epoch 138/200\n",
      "7/7 [==============================] - 3s 499ms/step - loss: 0.3235 - accuracy: 0.8921 - val_loss: 0.5773 - val_accuracy: 0.8305\n",
      "Epoch 139/200\n",
      "7/7 [==============================] - 3s 368ms/step - loss: 0.2513 - accuracy: 0.9137 - val_loss: 0.4536 - val_accuracy: 0.8644\n",
      "Epoch 140/200\n",
      "7/7 [==============================] - 3s 403ms/step - loss: 0.2252 - accuracy: 0.9281 - val_loss: 0.4036 - val_accuracy: 0.8983\n",
      "Epoch 141/200\n",
      "7/7 [==============================] - 3s 420ms/step - loss: 0.2497 - accuracy: 0.9065 - val_loss: 0.7590 - val_accuracy: 0.7797\n",
      "Epoch 142/200\n",
      "7/7 [==============================] - 3s 502ms/step - loss: 0.2981 - accuracy: 0.9209 - val_loss: 0.4180 - val_accuracy: 0.8305\n",
      "Epoch 143/200\n",
      "7/7 [==============================] - 3s 422ms/step - loss: 0.3423 - accuracy: 0.9137 - val_loss: 0.5316 - val_accuracy: 0.8305\n",
      "Epoch 144/200\n",
      "7/7 [==============================] - 3s 405ms/step - loss: 0.2701 - accuracy: 0.8849 - val_loss: 0.2923 - val_accuracy: 0.9153\n",
      "Epoch 145/200\n",
      "7/7 [==============================] - 3s 384ms/step - loss: 0.2196 - accuracy: 0.9281 - val_loss: 0.3713 - val_accuracy: 0.8475\n",
      "Epoch 146/200\n",
      "7/7 [==============================] - 3s 372ms/step - loss: 0.2997 - accuracy: 0.9209 - val_loss: 0.4884 - val_accuracy: 0.8475\n",
      "Epoch 147/200\n",
      "7/7 [==============================] - 3s 380ms/step - loss: 0.2278 - accuracy: 0.9281 - val_loss: 0.3380 - val_accuracy: 0.8983\n",
      "Epoch 148/200\n",
      "7/7 [==============================] - 3s 418ms/step - loss: 0.1882 - accuracy: 0.9065 - val_loss: 0.5967 - val_accuracy: 0.8475\n",
      "Epoch 149/200\n",
      "7/7 [==============================] - 3s 427ms/step - loss: 0.2581 - accuracy: 0.9065 - val_loss: 0.4850 - val_accuracy: 0.8644\n",
      "Epoch 150/200\n",
      "7/7 [==============================] - 3s 399ms/step - loss: 0.1758 - accuracy: 0.9424 - val_loss: 0.4847 - val_accuracy: 0.8983\n",
      "Epoch 151/200\n",
      "7/7 [==============================] - 3s 447ms/step - loss: 0.2343 - accuracy: 0.9353 - val_loss: 0.4814 - val_accuracy: 0.8305\n",
      "Epoch 152/200\n",
      "7/7 [==============================] - 3s 437ms/step - loss: 0.2194 - accuracy: 0.9353 - val_loss: 0.7646 - val_accuracy: 0.7966\n",
      "Epoch 153/200\n",
      "7/7 [==============================] - 3s 370ms/step - loss: 0.1523 - accuracy: 0.9424 - val_loss: 0.4126 - val_accuracy: 0.8644\n",
      "Epoch 154/200\n",
      "7/7 [==============================] - 3s 379ms/step - loss: 0.3130 - accuracy: 0.9065 - val_loss: 0.5276 - val_accuracy: 0.8305\n",
      "Epoch 155/200\n",
      "7/7 [==============================] - 3s 437ms/step - loss: 0.1666 - accuracy: 0.9353 - val_loss: 0.4217 - val_accuracy: 0.8136\n",
      "Epoch 156/200\n",
      "7/7 [==============================] - 3s 431ms/step - loss: 0.2128 - accuracy: 0.9209 - val_loss: 0.3202 - val_accuracy: 0.8644\n",
      "Epoch 157/200\n",
      "7/7 [==============================] - 3s 404ms/step - loss: 0.2102 - accuracy: 0.9209 - val_loss: 0.3220 - val_accuracy: 0.9153\n",
      "Epoch 158/200\n",
      "7/7 [==============================] - 3s 374ms/step - loss: 0.1471 - accuracy: 0.9568 - val_loss: 0.7431 - val_accuracy: 0.7966\n",
      "Epoch 159/200\n",
      "7/7 [==============================] - 3s 504ms/step - loss: 0.1907 - accuracy: 0.9568 - val_loss: 0.4056 - val_accuracy: 0.8475\n",
      "Epoch 160/200\n",
      "7/7 [==============================] - 3s 429ms/step - loss: 0.2039 - accuracy: 0.9281 - val_loss: 0.4993 - val_accuracy: 0.8644\n",
      "Epoch 161/200\n",
      "7/7 [==============================] - 3s 408ms/step - loss: 0.1872 - accuracy: 0.9353 - val_loss: 0.5676 - val_accuracy: 0.8305\n",
      "Epoch 162/200\n",
      "7/7 [==============================] - 3s 484ms/step - loss: 0.2121 - accuracy: 0.9137 - val_loss: 0.4014 - val_accuracy: 0.8814\n",
      "Epoch 163/200\n",
      "7/7 [==============================] - 3s 413ms/step - loss: 0.1510 - accuracy: 0.9640 - val_loss: 0.4309 - val_accuracy: 0.7797\n",
      "Epoch 164/200\n",
      "7/7 [==============================] - 3s 381ms/step - loss: 0.2704 - accuracy: 0.8993 - val_loss: 0.6336 - val_accuracy: 0.7797\n",
      "Epoch 165/200\n",
      "7/7 [==============================] - 3s 380ms/step - loss: 0.1946 - accuracy: 0.9137 - val_loss: 0.2879 - val_accuracy: 0.9153\n",
      "Epoch 166/200\n",
      "7/7 [==============================] - 3s 379ms/step - loss: 0.1797 - accuracy: 0.9353 - val_loss: 0.8912 - val_accuracy: 0.7288\n",
      "Epoch 167/200\n",
      "7/7 [==============================] - 3s 374ms/step - loss: 0.2075 - accuracy: 0.9424 - val_loss: 0.2966 - val_accuracy: 0.8644\n",
      "Epoch 168/200\n",
      "7/7 [==============================] - 3s 383ms/step - loss: 0.1914 - accuracy: 0.9496 - val_loss: 0.4160 - val_accuracy: 0.8475\n",
      "Epoch 169/200\n",
      "7/7 [==============================] - 3s 387ms/step - loss: 0.1357 - accuracy: 0.9568 - val_loss: 0.9024 - val_accuracy: 0.7288\n",
      "Epoch 170/200\n",
      "7/7 [==============================] - 3s 393ms/step - loss: 0.2018 - accuracy: 0.9353 - val_loss: 0.6574 - val_accuracy: 0.7797\n",
      "Epoch 171/200\n",
      "7/7 [==============================] - 3s 378ms/step - loss: 0.2581 - accuracy: 0.9281 - val_loss: 0.3621 - val_accuracy: 0.8644\n",
      "Epoch 172/200\n",
      "7/7 [==============================] - 3s 368ms/step - loss: 0.2239 - accuracy: 0.9137 - val_loss: 0.8171 - val_accuracy: 0.7627\n",
      "Epoch 173/200\n"
     ]
    },
    {
     "name": "stdout",
     "output_type": "stream",
     "text": [
      "7/7 [==============================] - 3s 404ms/step - loss: 0.2130 - accuracy: 0.9209 - val_loss: 0.8537 - val_accuracy: 0.7458\n",
      "Epoch 174/200\n",
      "7/7 [==============================] - 3s 421ms/step - loss: 0.2662 - accuracy: 0.9281 - val_loss: 0.3010 - val_accuracy: 0.8644\n",
      "Epoch 175/200\n",
      "7/7 [==============================] - 3s 404ms/step - loss: 0.1433 - accuracy: 0.9496 - val_loss: 0.7129 - val_accuracy: 0.7797\n",
      "Epoch 176/200\n",
      "7/7 [==============================] - 3s 377ms/step - loss: 0.2734 - accuracy: 0.9137 - val_loss: 0.6310 - val_accuracy: 0.8136\n",
      "Epoch 177/200\n",
      "7/7 [==============================] - 3s 396ms/step - loss: 0.2728 - accuracy: 0.8777 - val_loss: 0.3371 - val_accuracy: 0.8644\n",
      "Epoch 178/200\n",
      "7/7 [==============================] - 3s 446ms/step - loss: 0.3584 - accuracy: 0.8993 - val_loss: 1.0774 - val_accuracy: 0.7627\n",
      "Epoch 179/200\n",
      "7/7 [==============================] - 3s 470ms/step - loss: 0.2610 - accuracy: 0.9424 - val_loss: 0.5484 - val_accuracy: 0.8644\n",
      "Epoch 180/200\n",
      "7/7 [==============================] - 4s 546ms/step - loss: 0.3408 - accuracy: 0.9281 - val_loss: 0.3387 - val_accuracy: 0.9153\n",
      "Epoch 181/200\n",
      "7/7 [==============================] - 4s 533ms/step - loss: 0.1903 - accuracy: 0.9496 - val_loss: 0.4599 - val_accuracy: 0.8814\n",
      "Epoch 182/200\n",
      "7/7 [==============================] - 3s 504ms/step - loss: 0.1888 - accuracy: 0.9281 - val_loss: 0.5243 - val_accuracy: 0.8136\n",
      "Epoch 183/200\n",
      "7/7 [==============================] - 3s 471ms/step - loss: 0.2594 - accuracy: 0.9065 - val_loss: 0.4377 - val_accuracy: 0.8814\n",
      "Epoch 184/200\n",
      "7/7 [==============================] - 3s 449ms/step - loss: 0.1958 - accuracy: 0.9353 - val_loss: 0.3930 - val_accuracy: 0.8644\n",
      "Epoch 185/200\n",
      "7/7 [==============================] - 3s 410ms/step - loss: 0.1146 - accuracy: 0.9856 - val_loss: 0.3776 - val_accuracy: 0.8644\n",
      "Epoch 186/200\n",
      "7/7 [==============================] - 3s 501ms/step - loss: 0.1783 - accuracy: 0.9424 - val_loss: 0.8187 - val_accuracy: 0.7966\n",
      "Epoch 187/200\n",
      "7/7 [==============================] - 3s 468ms/step - loss: 0.2419 - accuracy: 0.9353 - val_loss: 0.5698 - val_accuracy: 0.8136\n",
      "Epoch 188/200\n",
      "7/7 [==============================] - 3s 467ms/step - loss: 0.1643 - accuracy: 0.9568 - val_loss: 0.3763 - val_accuracy: 0.8983\n",
      "Epoch 189/200\n",
      "7/7 [==============================] - 3s 437ms/step - loss: 0.2279 - accuracy: 0.9137 - val_loss: 0.7933 - val_accuracy: 0.7627\n",
      "Epoch 190/200\n",
      "7/7 [==============================] - 3s 518ms/step - loss: 0.1733 - accuracy: 0.9424 - val_loss: 0.5911 - val_accuracy: 0.8305\n",
      "Epoch 191/200\n",
      "7/7 [==============================] - 4s 527ms/step - loss: 0.1779 - accuracy: 0.9353 - val_loss: 0.4578 - val_accuracy: 0.8475\n",
      "Epoch 192/200\n",
      "7/7 [==============================] - 3s 488ms/step - loss: 0.2128 - accuracy: 0.9640 - val_loss: 0.6075 - val_accuracy: 0.8136\n",
      "Epoch 193/200\n",
      "7/7 [==============================] - 3s 433ms/step - loss: 0.1696 - accuracy: 0.9424 - val_loss: 0.7360 - val_accuracy: 0.7966\n",
      "Epoch 194/200\n",
      "7/7 [==============================] - 3s 417ms/step - loss: 0.1377 - accuracy: 0.9568 - val_loss: 0.5073 - val_accuracy: 0.8644\n",
      "Epoch 195/200\n",
      "7/7 [==============================] - 3s 407ms/step - loss: 0.2205 - accuracy: 0.9209 - val_loss: 0.7337 - val_accuracy: 0.7288\n",
      "Epoch 196/200\n",
      "7/7 [==============================] - 3s 432ms/step - loss: 0.2106 - accuracy: 0.9353 - val_loss: 0.4972 - val_accuracy: 0.8305\n",
      "Epoch 197/200\n",
      "7/7 [==============================] - 3s 390ms/step - loss: 0.2043 - accuracy: 0.9424 - val_loss: 0.4675 - val_accuracy: 0.8983\n",
      "Epoch 198/200\n",
      "7/7 [==============================] - 3s 385ms/step - loss: 0.1983 - accuracy: 0.9496 - val_loss: 0.5574 - val_accuracy: 0.8305\n",
      "Epoch 199/200\n",
      "7/7 [==============================] - 3s 402ms/step - loss: 0.1868 - accuracy: 0.9568 - val_loss: 0.6521 - val_accuracy: 0.7797\n",
      "Epoch 200/200\n",
      "7/7 [==============================] - 3s 400ms/step - loss: 0.1165 - accuracy: 0.9640 - val_loss: 0.4781 - val_accuracy: 0.8475\n"
     ]
    }
   ],
   "source": [
    "history = classifier.fit_generator(training_set,epochs=200,validation_data=validation_set)"
   ]
  },
  {
   "cell_type": "code",
   "execution_count": 30,
   "id": "91df045a",
   "metadata": {},
   "outputs": [],
   "source": [
    "import matplotlib.pyplot as plt"
   ]
  },
  {
   "cell_type": "code",
   "execution_count": 31,
   "id": "6dbf68d8",
   "metadata": {},
   "outputs": [],
   "source": [
    "acc= history.history['accuracy']\n",
    "val_acc = history.history['val_accuracy']\n",
    "loss = history.history['loss']\n",
    "val_loss = history.history['val_loss']"
   ]
  },
  {
   "cell_type": "code",
   "execution_count": 32,
   "id": "03a9849b",
   "metadata": {},
   "outputs": [],
   "source": [
    "epochs = range(1,len(acc)+1)"
   ]
  },
  {
   "cell_type": "code",
   "execution_count": 33,
   "id": "684008f7",
   "metadata": {},
   "outputs": [
    {
     "data": {
      "text/plain": [
       "<Figure size 432x288 with 0 Axes>"
      ]
     },
     "execution_count": 33,
     "metadata": {},
     "output_type": "execute_result"
    },
    {
     "data": {
      "image/png": "[encoded data removed]",
      "text/plain": [
       "<Figure size 432x288 with 1 Axes>"
      ]
     },
     "metadata": {
      "needs_background": "light"
     },
     "output_type": "display_data"
    },
    {
     "data": {
      "text/plain": [
       "<Figure size 432x288 with 0 Axes>"
      ]
     },
     "metadata": {},
     "output_type": "display_data"
    }
   ],
   "source": [
    "plt.plot(epochs,acc,'bo',label='Training acc')\n",
    "plt.plot(epochs,val_acc,'r',label='validation acc')\n",
    "plt.legend()\n",
    "plt.figure()"
   ]
  },
  {
   "cell_type": "code",
   "execution_count": 34,
   "id": "977e9a1a",
   "metadata": {},
   "outputs": [
    {
     "data": {
      "text/plain": [
       "<Figure size 432x288 with 0 Axes>"
      ]
     },
     "execution_count": 34,
     "metadata": {},
     "output_type": "execute_result"
    },
    {
     "data": {
      "image/png": "[encoded data removed]",
      "text/plain": [
       "<Figure size 432x288 with 1 Axes>"
      ]
     },
     "metadata": {
      "needs_background": "light"
     },
     "output_type": "display_data"
    },
    {
     "data": {
      "text/plain": [
       "<Figure size 432x288 with 0 Axes>"
      ]
     },
     "metadata": {},
     "output_type": "display_data"
    }
   ],
   "source": [
    "plt.plot(epochs,loss,'bo',label='Training loss')\n",
    "plt.plot(epochs,val_loss,'r',label='validation loss')\n",
    "plt.legend()\n",
    "plt.figure()"
   ]
  },
  {
   "cell_type": "code",
   "execution_count": null,
   "id": "54a3792d",
   "metadata": {},
   "outputs": [],
   "source": []
  }
 ],
 "metadata": {
  "kernelspec": {
   "display_name": "Python 3 (ipykernel)",
   "language": "python",
   "name": "python3"
  },
  "language_info": {
   "codemirror_mode": {
    "name": "ipython",
    "version": 3
   },
   "file_extension": ".py",
   "mimetype": "text/x-python",
   "name": "python",
   "nbconvert_exporter": "python",
   "pygments_lexer": "ipython3",
   "version": "3.9.12"
  }
 },
 "nbformat": 4,
 "nbformat_minor": 5
}
